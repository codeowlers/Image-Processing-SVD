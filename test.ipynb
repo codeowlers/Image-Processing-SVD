{
 "cells": [
  {
   "cell_type": "code",
   "execution_count": 15,
   "metadata": {},
   "outputs": [
    {
     "data": {
      "text/plain": [
       "True"
      ]
     },
     "execution_count": 15,
     "metadata": {},
     "output_type": "execute_result"
    }
   ],
   "source": [
    "import cv2\n",
    "import numpy as np\n",
    "\n",
    "# Load the image\n",
    "img = cv2.imread(\"./assets/low2.jpg\")\n",
    "\n",
    "# Perform SVD on each color channel of the image\n",
    "compressed_channels = []\n",
    "for channel in cv2.split(img):\n",
    "    U, S, V = np.linalg.svd(channel)\n",
    "    k = 100\n",
    "    compressed_channel = np.dot(U[:, :k], np.dot(np.diag(S[:k]), V[:k, :]))\n",
    "    compressed_channels.append(compressed_channel)\n",
    "\n",
    "# Merge the compressed color channels into a single color image\n",
    "compressed = cv2.merge(compressed_channels)\n",
    "\n",
    "# Save the compressed image\n",
    "cv2.imwrite(\"compressed-images/compressed_image.jpg\", compressed)\n"
   ]
  }
 ],
 "metadata": {
  "kernelspec": {
   "display_name": ".venv",
   "language": "python",
   "name": "python3"
  },
  "language_info": {
   "codemirror_mode": {
    "name": "ipython",
    "version": 3
   },
   "file_extension": ".py",
   "mimetype": "text/x-python",
   "name": "python",
   "nbconvert_exporter": "python",
   "pygments_lexer": "ipython3",
   "version": "3.10.2"
  },
  "orig_nbformat": 4,
  "vscode": {
   "interpreter": {
    "hash": "ba5c4511d0778ea6f48e7f692f779602e9583d66f4915f9d1eead182f2c41a1d"
   }
  }
 },
 "nbformat": 4,
 "nbformat_minor": 2
}
