{
 "cells": [
  {
   "attachments": {},
   "cell_type": "markdown",
   "metadata": {},
   "source": [
    "Import used packages"
   ]
  },
  {
   "cell_type": "code",
   "execution_count": null,
   "metadata": {},
   "outputs": [],
   "source": [
    "import cv2\n",
    "import os\n",
    "import numpy as np\n",
    "from algorithms import *\n",
    "from IPython.display import Image"
   ]
  },
  {
   "attachments": {},
   "cell_type": "markdown",
   "metadata": {},
   "source": [
    "Define image path"
   ]
  },
  {
   "cell_type": "code",
   "execution_count": null,
   "metadata": {},
   "outputs": [],
   "source": [
    "image_path = './assets/low2.jpg'\n",
    "file_extension = os.path.splitext(image_path)[1]\n",
    "image_type = file_extension[1:].lower()"
   ]
  },
  {
   "attachments": {},
   "cell_type": "markdown",
   "metadata": {},
   "source": [
    "Load RGB image"
   ]
  },
  {
   "cell_type": "code",
   "execution_count": null,
   "metadata": {},
   "outputs": [],
   "source": [
    "# Load the image in color format\n",
    "img = cv2.imread(image_path, cv2.IMREAD_COLOR)\n",
    "Image(filename=image_path)"
   ]
  },
  {
   "attachments": {},
   "cell_type": "markdown",
   "metadata": {},
   "source": [
    "Change image to matrix"
   ]
  },
  {
   "cell_type": "code",
   "execution_count": null,
   "metadata": {},
   "outputs": [],
   "source": [
    "matrix = np.float32(img)\n",
    "\n",
    "# Print the matrix shape\n",
    "print(\"Matrix shape:\", matrix.shape)"
   ]
  },
  {
   "cell_type": "code",
   "execution_count": null,
   "metadata": {},
   "outputs": [],
   "source": [
    "original_size, _ = save_image(matrix, image_type, onlySize=True)"
   ]
  },
  {
   "attachments": {},
   "cell_type": "markdown",
   "metadata": {},
   "source": [
    "Split the image into three separate color channels"
   ]
  },
  {
   "cell_type": "code",
   "execution_count": null,
   "metadata": {},
   "outputs": [],
   "source": [
    "# Slice the third dimension of the array\n",
    "\n",
    "b = matrix[:,:,0]\n",
    "g = matrix[:,:,1]\n",
    "r = matrix[:,:,2]"
   ]
  },
  {
   "attachments": {},
   "cell_type": "markdown",
   "metadata": {},
   "source": [
    "Apply SVD to each channel"
   ]
  },
  {
   "cell_type": "code",
   "execution_count": null,
   "metadata": {},
   "outputs": [],
   "source": [
    "U_b, S_b, Vt_b = svd(b)\n",
    "U_g, S_g, Vt_g = svd(g)\n",
    "U_r, S_r, Vt_r = svd(r)"
   ]
  },
  {
   "attachments": {},
   "cell_type": "markdown",
   "metadata": {},
   "source": [
    "Find the Number of singular Values"
   ]
  },
  {
   "cell_type": "code",
   "execution_count": null,
   "metadata": {},
   "outputs": [],
   "source": [
    "num_sv = 112"
   ]
  },
  {
   "attachments": {},
   "cell_type": "markdown",
   "metadata": {},
   "source": [
    "Choosing the best value of the number of singular values by certain percentage chosen of total energy captured"
   ]
  },
  {
   "cell_type": "code",
   "execution_count": null,
   "metadata": {},
   "outputs": [],
   "source": [
    "img = cv2.imread(image_path, cv2.IMREAD_COLOR)\n",
    "num_sv_r, cum_energy_r = find_num_sv(img, U_r, S_r, Vt_r, energy_ratio=0.95)\n",
    "num_sv_b, cum_energy_b = find_num_sv(img, U_b, S_b, Vt_b, energy_ratio=0.95)\n",
    "num_sv_g, cum_energy_g = find_num_sv(img, U_g, S_r, Vt_g, energy_ratio=0.95)"
   ]
  },
  {
   "cell_type": "code",
   "execution_count": null,
   "metadata": {},
   "outputs": [],
   "source": [
    "energy_ratio = 0.95\n",
    "plot_cumulative_energy(cum_energy_r, cum_energy_g, cum_energy_b, energy_ratio, num_sv_r, num_sv_g, num_sv_b)"
   ]
  },
  {
   "attachments": {},
   "cell_type": "markdown",
   "metadata": {},
   "source": [
    "Trunctate the matrices U, S, V"
   ]
  },
  {
   "cell_type": "code",
   "execution_count": null,
   "metadata": {},
   "outputs": [],
   "source": [
    "U_b_truncate, S_b_truncate, Vt_b_truncate = truncate(U_b, S_b, Vt_b, num_sv)\n",
    "U_g_truncate, S_g_truncate, Vt_g_truncate = truncate(U_g, S_g, Vt_g, num_sv)\n",
    "U_r_truncate, S_r_truncate, Vt_r_truncate = truncate(U_r, S_r, Vt_r, num_sv)"
   ]
  },
  {
   "attachments": {},
   "cell_type": "markdown",
   "metadata": {},
   "source": [
    "Compress Channels"
   ]
  },
  {
   "cell_type": "code",
   "execution_count": null,
   "metadata": {},
   "outputs": [],
   "source": [
    "b_compressed = compress(U_b_truncate, S_b_truncate, Vt_b_truncate)\n",
    "g_compressed = compress(U_g_truncate, S_g_truncate, Vt_g_truncate)\n",
    "r_compressed = compress(U_r_truncate, S_r_truncate, Vt_r_truncate)\n"
   ]
  },
  {
   "cell_type": "code",
   "execution_count": null,
   "metadata": {},
   "outputs": [],
   "source": [
    "img = cv2.imread('./assets/low2.jpg')\n",
    "\n",
    "# Plot cumulative energy ratios for each color channel\n",
    "plot_cumulative_energy(img, energy_ratio=0.95)"
   ]
  },
  {
   "attachments": {},
   "cell_type": "markdown",
   "metadata": {},
   "source": [
    "Merge Channels"
   ]
  },
  {
   "cell_type": "code",
   "execution_count": null,
   "metadata": {},
   "outputs": [],
   "source": [
    "compressed_array = [b_compressed, g_compressed, r_compressed]\n",
    "\n",
    "merged = cv2.merge(compressed_array)"
   ]
  },
  {
   "attachments": {},
   "cell_type": "markdown",
   "metadata": {},
   "source": [
    "Save merged matrix as an Image"
   ]
  },
  {
   "cell_type": "code",
   "execution_count": null,
   "metadata": {},
   "outputs": [],
   "source": [
    "compressed_size, path = save_image(merged, image_type, onlySize=False)\n",
    "Image(filename=path)"
   ]
  }
 ],
 "metadata": {
  "kernelspec": {
   "display_name": ".venv",
   "language": "python",
   "name": "python3"
  },
  "language_info": {
   "codemirror_mode": {
    "name": "ipython",
    "version": 3
   },
   "file_extension": ".py",
   "mimetype": "text/x-python",
   "name": "python",
   "nbconvert_exporter": "python",
   "pygments_lexer": "ipython3",
   "version": "3.10.2"
  },
  "orig_nbformat": 4,
  "vscode": {
   "interpreter": {
    "hash": "ba5c4511d0778ea6f48e7f692f779602e9583d66f4915f9d1eead182f2c41a1d"
   }
  }
 },
 "nbformat": 4,
 "nbformat_minor": 2
}
