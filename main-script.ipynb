{
 "cells": [
  {
   "attachments": {},
   "cell_type": "markdown",
   "metadata": {},
   "source": [
    "Import used packages"
   ]
  },
  {
   "cell_type": "code",
   "execution_count": null,
   "metadata": {},
   "outputs": [],
   "source": [
    "import cv2\n",
    "import os\n",
    "import numpy as np\n",
    "from algorithms import *\n",
    "from IPython.display import Image"
   ]
  },
  {
   "attachments": {},
   "cell_type": "markdown",
   "metadata": {},
   "source": [
    "Define image path"
   ]
  },
  {
   "cell_type": "code",
   "execution_count": null,
   "metadata": {},
   "outputs": [],
   "source": [
    "image_path = './assets/low2.jpg'\n",
    "file_extension = os.path.splitext(image_path)[1]\n",
    "image_type = file_extension[1:].lower()"
   ]
  },
  {
   "attachments": {},
   "cell_type": "markdown",
   "metadata": {},
   "source": [
    "Load RGB image"
   ]
  },
  {
   "cell_type": "code",
   "execution_count": null,
   "metadata": {},
   "outputs": [],
   "source": [
    "# Load the image in color format\n",
    "img = cv2.imread(image_path, cv2.IMREAD_COLOR)\n",
    "Image(filename=image_path)"
   ]
  },
  {
   "attachments": {},
   "cell_type": "markdown",
   "metadata": {},
   "source": [
    "Change image to matrix"
   ]
  },
  {
   "cell_type": "code",
   "execution_count": null,
   "metadata": {},
   "outputs": [],
   "source": [
    "matrix = np.float32(img)\n",
    "\n",
    "# Print the matrix shape\n",
    "print(\"Matrix shape:\", matrix.shape)"
   ]
  },
  {
   "cell_type": "code",
   "execution_count": null,
   "metadata": {},
   "outputs": [],
   "source": [
    "original_size, _ = save_image(matrix, image_type, onlySize=True)"
   ]
  },
  {
   "attachments": {},
   "cell_type": "markdown",
   "metadata": {},
   "source": [
    "Split the image into three separate color channels"
   ]
  },
  {
   "cell_type": "code",
   "execution_count": null,
   "metadata": {},
   "outputs": [],
   "source": [
    "# Slice the third dimension of the array\n",
    "\n",
    "b = matrix[:,:,0]\n",
    "g = matrix[:,:,1]\n",
    "r = matrix[:,:,2]"
   ]
  },
  {
   "attachments": {},
   "cell_type": "markdown",
   "metadata": {},
   "source": [
    "Apply SVD to each channel"
   ]
  },
  {
   "cell_type": "code",
   "execution_count": null,
   "metadata": {},
   "outputs": [],
   "source": [
    "U_b, S_b, Vt_b = svd(b)\n",
    "U_g, S_g, Vt_g = svd(g)\n",
    "U_r, S_r, Vt_r = svd(r)"
   ]
  },
  {
   "attachments": {},
   "cell_type": "markdown",
   "metadata": {},
   "source": [
    "First Approach- Choosing the best value of the number of singular values by certain percentage chosen of total energy captured"
   ]
  },
  {
   "cell_type": "code",
   "execution_count": null,
   "metadata": {},
   "outputs": [],
   "source": [
    "energy_ratio = 0.95\n",
    "num_sv_r, cum_energy_r = find_num_sv(S_r, energy_ratio)\n",
    "num_sv_b, cum_energy_b = find_num_sv(S_b, energy_ratio)\n",
    "num_sv_g, cum_energy_g = find_num_sv(S_g, energy_ratio)\n",
    "# The optimal value of number of singular values is minimum between all three channels\n",
    "num_sv1 = min(num_sv_b, num_sv_g, num_sv_r)\n",
    "plot_cumulative_energy(cum_energy_r, cum_energy_g, cum_energy_b, energy_ratio, num_sv_r, num_sv_g, num_sv_b, S_r)"
   ]
  },
  {
   "attachments": {},
   "cell_type": "markdown",
   "metadata": {},
   "source": [
    "Second Approach - Based on a set of singular values and rank"
   ]
  },
  {
   "cell_type": "code",
   "execution_count": null,
   "metadata": {},
   "outputs": [],
   "source": [
    "# Calculate the rank of the each channel\n",
    "rank_b = np.linalg.matrix_rank(b)\n",
    "rank_g = np.linalg.matrix_rank(g)\n",
    "rank_r = np.linalg.matrix_rank(r)\n",
    "\n",
    "# Get minimum rank among 3 channels\n",
    "min_rank = min(rank_b,rank_g,rank_r)\n",
    "\n",
    "num_sv2 = calculate_optimal_k(S_b, S_g, S_r, min_rank)"
   ]
  },
  {
   "attachments": {},
   "cell_type": "markdown",
   "metadata": {},
   "source": [
    "Compare both numbers of singular values"
   ]
  },
  {
   "cell_type": "code",
   "execution_count": null,
   "metadata": {},
   "outputs": [],
   "source": [
    "print(\"Number of singular values using first approach =\",num_sv1)\n",
    "print(\"Number of singular values using second approach =\",num_sv2)"
   ]
  },
  {
   "attachments": {},
   "cell_type": "markdown",
   "metadata": {},
   "source": [
    "Truncate the matrices U, S, V"
   ]
  },
  {
   "cell_type": "code",
   "execution_count": null,
   "metadata": {},
   "outputs": [],
   "source": [
    "# Truncate based on num_sv1\n",
    "U_b_truncate1, S_b_truncate1, Vt_b_truncate1 = truncate(U_b, S_b, Vt_b, num_sv1)\n",
    "U_g_truncate1, S_g_truncate1, Vt_g_truncate1 = truncate(U_g, S_g, Vt_g, num_sv1)\n",
    "U_r_truncate1, S_r_truncate1, Vt_r_truncate1 = truncate(U_r, S_r, Vt_r, num_sv1)\n",
    "\n",
    "# Truncate based on num_sv2\n",
    "U_b_truncate2, S_b_truncate2, Vt_b_truncate2 = truncate(U_b, S_b, Vt_b, num_sv2)\n",
    "U_g_truncate2, S_g_truncate2, Vt_g_truncate2 = truncate(U_g, S_g, Vt_g, num_sv2)\n",
    "U_r_truncate2, S_r_truncate2, Vt_r_truncate2 = truncate(U_r, S_r, Vt_r, num_sv2)"
   ]
  },
  {
   "attachments": {},
   "cell_type": "markdown",
   "metadata": {},
   "source": [
    "Compress Channels"
   ]
  },
  {
   "cell_type": "code",
   "execution_count": null,
   "metadata": {},
   "outputs": [],
   "source": [
    "# Compress based on num_sv1\n",
    "b_compressed1 = compress(U_b_truncate1, S_b_truncate1, Vt_b_truncate1)\n",
    "g_compressed1 = compress(U_g_truncate1, S_g_truncate1, Vt_g_truncate1)\n",
    "r_compressed1 = compress(U_r_truncate1, S_r_truncate1, Vt_r_truncate1)\n",
    "\n",
    "# Compress based on num_sv2\n",
    "b_compressed2 = compress(U_b_truncate2, S_b_truncate2, Vt_b_truncate2)\n",
    "g_compressed2 = compress(U_g_truncate2, S_g_truncate2, Vt_g_truncate2)\n",
    "r_compressed2 = compress(U_r_truncate2, S_r_truncate2, Vt_r_truncate2)"
   ]
  },
  {
   "attachments": {},
   "cell_type": "markdown",
   "metadata": {},
   "source": [
    "Merge Channels"
   ]
  },
  {
   "cell_type": "code",
   "execution_count": null,
   "metadata": {},
   "outputs": [],
   "source": [
    "# Merge compressed array based on num_sv1\n",
    "compressed_array1 = [b_compressed1, g_compressed1, r_compressed1]\n",
    "merge1 = cv2.merge(compressed_array1)\n",
    "\n",
    "# Merge compressed array based on num_sv2\n",
    "compressed_array2 = [b_compressed2, g_compressed2, r_compressed2]\n",
    "merge2 = cv2.merge(compressed_array2)"
   ]
  },
  {
   "attachments": {},
   "cell_type": "markdown",
   "metadata": {},
   "source": [
    "Save first merged matrix as an Image"
   ]
  },
  {
   "cell_type": "code",
   "execution_count": null,
   "metadata": {},
   "outputs": [],
   "source": [
    "compressed_size1, path1 = save_image(merge1, image_type, onlySize=False)\n",
    "Image(filename=path1)"
   ]
  },
  {
   "attachments": {},
   "cell_type": "markdown",
   "metadata": {},
   "source": [
    "Evaluation of Image 1"
   ]
  },
  {
   "cell_type": "code",
   "execution_count": null,
   "metadata": {},
   "outputs": [],
   "source": [
    "evaluate_psnr(matrix,merge1)\n",
    "evaluate_ssim(matrix,merge1)"
   ]
  },
  {
   "attachments": {},
   "cell_type": "markdown",
   "metadata": {},
   "source": [
    "Save second merged matrix as an Image"
   ]
  },
  {
   "cell_type": "code",
   "execution_count": null,
   "metadata": {},
   "outputs": [],
   "source": [
    "compressed_size2, path2 = save_image(merge2, image_type, onlySize=False)\n",
    "Image(filename=path2)"
   ]
  },
  {
   "attachments": {},
   "cell_type": "markdown",
   "metadata": {},
   "source": [
    "Evaluation of Image 2"
   ]
  },
  {
   "cell_type": "code",
   "execution_count": null,
   "metadata": {},
   "outputs": [],
   "source": [
    "evaluate_psnr(matrix,merge2)\n",
    "evaluate_ssim(matrix,merge2)"
   ]
  }
 ],
 "metadata": {
  "kernelspec": {
   "display_name": "venv",
   "language": "python",
   "name": "python3"
  },
  "language_info": {
   "codemirror_mode": {
    "name": "ipython",
    "version": 3
   },
   "file_extension": ".py",
   "mimetype": "text/x-python",
   "name": "python",
   "nbconvert_exporter": "python",
   "pygments_lexer": "ipython3",
   "version": "3.10.9"
  },
  "orig_nbformat": 4,
  "vscode": {
   "interpreter": {
    "hash": "e5ca923fd9f14740a3d805c2a2e75da54cdfbbecfd46e521434c0904534b5231"
   }
  }
 },
 "nbformat": 4,
 "nbformat_minor": 2
}
