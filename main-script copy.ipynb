{
 "cells": [
  {
   "cell_type": "code",
   "execution_count": null,
   "metadata": {},
   "outputs": [],
   "source": [
    "import cv2"
   ]
  },
  {
   "cell_type": "code",
   "execution_count": null,
   "metadata": {},
   "outputs": [],
   "source": [
    "# Load the image in color format\n",
    "img = cv2.imread('./assets/nature.jpg', cv2.IMREAD_COLOR)\n",
    "\n",
    "# Convert the image to grayscale\n",
    "gray = cv2.cvtColor(img, cv2.COLOR_BGR2GRAY)\n",
    "\n",
    "# Resize the image to a manageable size\n",
    "resized = cv2.resize(gray, (512, 512))\n",
    "\n",
    "# Display the original and preprocessed images\n",
    "cv2.imshow('Original Image', img)\n",
    "cv2.imshow('Preprocessed Image', resized)\n",
    "cv2.waitKey(0)\n",
    "cv2.destroyAllWindows()\n",
    "cv2.waitKey(1)"
   ]
  },
  {
   "cell_type": "code",
   "execution_count": null,
   "metadata": {},
   "outputs": [],
   "source": [
    "import numpy as np\n",
    "\n",
    "# Load the preprocessed image\n",
    "# img = cv2.imread('preprocessed_image.jpg', cv2.IMREAD_GRAYSCALE)\n",
    "\n",
    "# Perform SVD decomposition\n",
    "U, sigma, V = np.linalg.svd(gray, full_matrices=False)\n",
    "\n",
    "# Display the singular values\n",
    "print(sigma)\n",
    "\n",
    "# Display the decomposed matrices\n",
    "cv2.imshow('U matrix', U)\n",
    "cv2.imshow('V matrix', V)\n",
    "cv2.waitKey(0)\n",
    "cv2.destroyAllWindows()\n",
    "cv2.waitKey(1)"
   ]
  },
  {
   "cell_type": "code",
   "execution_count": null,
   "metadata": {},
   "outputs": [],
   "source": [
    "\n",
    "# Truncate the matrices to the desired rank\n",
    "U = U[:, :rank]\n",
    "sigma = sigma[:rank]\n",
    "V = V[:rank, :]\n",
    "\n",
    "# Reconstruct the compressed image\n",
    "compressed_img = U @ np.diag(sigma) @ V\n",
    "\n",
    "# Display the compressed image\n",
    "cv2.imshow('Compressed Image', compressed_img.astype(np.uint8))\n",
    "\n",
    "# # Wait for a keyboard event\n",
    "# cv2.waitKey(0)\n",
    "\n",
    "# # Destroy all windows\n",
    "# cv2.destroyAllWindows()\n"
   ]
  },
  {
   "cell_type": "code",
   "execution_count": 2,
   "metadata": {},
   "outputs": [
    {
     "name": "stdout",
     "output_type": "stream",
     "text": [
      "Compression Ratio: 0.010922666666666667\n"
     ]
    },
    {
     "data": {
      "text/plain": [
       "-1"
      ]
     },
     "execution_count": 2,
     "metadata": {},
     "output_type": "execute_result"
    }
   ],
   "source": [
    "import cv2\n",
    "import numpy as np\n",
    "\n",
    "# Load the original image\n",
    "img = cv2.imread('./assets/torino.jpg')\n",
    "\n",
    "# Convert the image to grayscale\n",
    "gray_img = cv2.cvtColor(img, cv2.COLOR_BGR2GRAY)\n",
    "\n",
    "# Resize the image to a manageable size\n",
    "resized_img = cv2.resize(gray_img, (512, 512))\n",
    "\n",
    "# Set the desired compression ratio\n",
    "compression_ratio = 0.5\n",
    "\n",
    "# Perform SVD decomposition on the resized image\n",
    "U, sigma, V = np.linalg.svd(resized_img, full_matrices=False)\n",
    "\n",
    "# Calculate the number of singular values to keep\n",
    "rank = int(compression_ratio * len(sigma))\n",
    "\n",
    "# Truncate the U, sigma, and V matrices to the desired rank\n",
    "U = U[:, :rank]\n",
    "sigma = sigma[:rank]\n",
    "V = V[:rank, :]\n",
    "\n",
    "# Reconstruct the compressed image\n",
    "compressed_img = U @ np.diag(sigma) @ V\n",
    "\n",
    "# Convert the image back to uint8 data type\n",
    "compressed_img = compressed_img.astype(np.uint8)\n",
    "\n",
    "# Calculate the compression ratio\n",
    "original_size = img.shape[0] * img.shape[1]\n",
    "compressed_size = compressed_img.shape[0] * compressed_img.shape[1]\n",
    "compression_ratio = compressed_size / original_size\n",
    "\n",
    "# Display the original and compressed images side by side\n",
    "cv2.imshow('Original Image', img)\n",
    "# cv2.imshow('Compressed Image', compressed_img)\n",
    "\n",
    "# Print the compression ratio\n",
    "print(f'Compression Ratio: {compression_ratio}')\n",
    "\n",
    "# Wait for a keyboard event\n",
    "cv2.waitKey(0)\n",
    "\n",
    "# Destroy all windows\n",
    "cv2.destroyAllWindows()\n",
    "cv2.waitKey(1)"
   ]
  },
  {
   "cell_type": "code",
   "execution_count": null,
   "metadata": {},
   "outputs": [],
   "source": []
  }
 ],
 "metadata": {
  "kernelspec": {
   "display_name": "venv",
   "language": "python",
   "name": "python3"
  },
  "language_info": {
   "codemirror_mode": {
    "name": "ipython",
    "version": 3
   },
   "file_extension": ".py",
   "mimetype": "text/x-python",
   "name": "python",
   "nbconvert_exporter": "python",
   "pygments_lexer": "ipython3",
   "version": "3.10.9"
  },
  "orig_nbformat": 4,
  "vscode": {
   "interpreter": {
    "hash": "e5ca923fd9f14740a3d805c2a2e75da54cdfbbecfd46e521434c0904534b5231"
   }
  }
 },
 "nbformat": 4,
 "nbformat_minor": 2
}
